{
 "cells": [
  {
   "cell_type": "markdown",
   "id": "312af1f0",
   "metadata": {},
   "source": [
    "# 行列積の実装"
   ]
  },
  {
   "cell_type": "markdown",
   "id": "354347c6",
   "metadata": {},
   "source": [
    "### パラメータ"
   ]
  },
  {
   "cell_type": "code",
   "execution_count": 1,
   "id": "4faaeff6",
   "metadata": {},
   "outputs": [],
   "source": [
    "import numpy as np\n",
    "\n",
    "a_ndarray = np.array([[-1, 2, 3], [4, -5, 6], [7, 8, -9]])\n",
    "b_ndarray = np.array([[0, 2, 1], [0, 2, -8], [2, 9, -1]])"
   ]
  },
  {
   "cell_type": "markdown",
   "id": "d658f5eb",
   "metadata": {},
   "source": [
    "## 【問題1】行列積を手計算する"
   ]
  },
  {
   "cell_type": "markdown",
   "id": "eb67384b",
   "metadata": {},
   "source": [
    "$$A = \\begin{bmatrix}\n",
    "-1 & 2 & 3 \\\\\n",
    "4 & -5 & 6 \\\\\n",
    "7 & 8 & -9 \\\\\n",
    "\\end{bmatrix}\n",
    ",B = \n",
    "\\begin{bmatrix}\n",
    "0 & 2 & 1 \\\\\n",
    "0 & 2 & -8 \\\\\n",
    "2 & 9 & -1 \\\\\n",
    "\\end{bmatrix}  \n",
    "$$"
   ]
  },
  {
   "cell_type": "markdown",
   "id": "5a96211b",
   "metadata": {},
   "source": [
    "$$\n",
    "AB = \\begin{bmatrix}\n",
    "(-1*0)+(2*0)+(3*2) & (-1*2)+(2*2)+(3*9) & (-1*1)+(2*-8)+(3*-1) \\\\\n",
    "(4*0)+(-5*0)+(6*2) & (4*2)+(-5*2)+(6*9) & (4*1)+(-5*-8)+(6*-1) \\\\\n",
    "(7*0)+(8*0)+(-9*2) & (7*2)+(8*2)+(-9*9) & (7*1)+(8*-8)+(-9*-1) \\\\\n",
    "\\end{bmatrix}\n",
    "$$"
   ]
  },
  {
   "cell_type": "markdown",
   "id": "7ed4aad2",
   "metadata": {},
   "source": [
    "$$AB = \\begin{bmatrix}\n",
    "6 & 29 & -20 \\\\\n",
    "12 & 52 & 38 \\\\\n",
    "-18 & -51 & -48 \\\\\n",
    "\\end{bmatrix}\n",
    "$$"
   ]
  },
  {
   "cell_type": "markdown",
   "id": "7aee88fa",
   "metadata": {},
   "source": [
    "## 【問題2】NumPyの関数による計算"
   ]
  },
  {
   "cell_type": "code",
   "execution_count": 2,
   "id": "ffa93224",
   "metadata": {},
   "outputs": [
    {
     "name": "stdout",
     "output_type": "stream",
     "text": [
      "[[  6  29 -20]\n",
      " [ 12  52  38]\n",
      " [-18 -51 -48]]\n"
     ]
    }
   ],
   "source": [
    "# a_ndarrayとb_ndarrayの行列積を求める\n",
    "print(np.matmul(a_ndarray, b_ndarray))"
   ]
  },
  {
   "cell_type": "markdown",
   "id": "ad9268ae",
   "metadata": {},
   "source": [
    "## 【問題3】ある要素の計算を実装\n",
    "$$\\sum_{k=0}^{2}a_{0,k},b_{k,0}$$"
   ]
  },
  {
   "cell_type": "code",
   "execution_count": 3,
   "id": "68f731f8",
   "metadata": {},
   "outputs": [
    {
     "name": "stdout",
     "output_type": "stream",
     "text": [
      "6\n"
     ]
    }
   ],
   "source": [
    "count = 0\n",
    "\n",
    "for i in range(3):\n",
    "\tcount += a_ndarray[0][i] * b_ndarray[i][0]\n",
    "\n",
    "print(count)"
   ]
  },
  {
   "cell_type": "markdown",
   "id": "0475b1d5",
   "metadata": {},
   "source": [
    "## 【問題4】行列積を行う関数の作成"
   ]
  },
  {
   "cell_type": "code",
   "execution_count": 4,
   "id": "d01e5dfe",
   "metadata": {},
   "outputs": [],
   "source": [
    "# 関数の宣言\n",
    "def matrix_product_calculator(matrix_1, matrix_2):\n",
    "\t\"\"\"\n",
    "\tfunction : 行列1[matrix_1]と行列2[matrix_2]の行列積[matrix_product]を返す関数\n",
    "\n",
    "\t:param matrix_1: array\n",
    "\t\t行列1\n",
    "\t:param matrix_2: array\n",
    "\t\t行列2\n",
    "\n",
    "\tcount : int (計算用)\n",
    "\t\t計算結果格納用\n",
    "\tlist_of_matrix_12 : list (格納用)\n",
    "\t\t計算結果を配列に変える前に保存しておくリスト\n",
    "\n",
    "\t:return: matrix_product: array\n",
    "\t\t行列1と行列2の行列積\n",
    "\t\"\"\"\n",
    "\n",
    "\t# 初期値の設定\n",
    "\tcount = 0\n",
    "\tlist_of_matrix_12 = []\n",
    "\t# 計算\n",
    "\tfor i in range(matrix_1.shape[0]):\n",
    "\t\tfor j in range(matrix_2.shape[1]):\n",
    "\t\t\t# ここのrangeはmatrix_2.shape[0]でも可能(同じ値をとる)\n",
    "\t\t\tfor k in range(matrix_1.shape[1]):\n",
    "\t\t\t\tcount += matrix_1[i][k] * matrix_2[k][j]\n",
    "\t\t\t# 結果の保存\n",
    "\t\t\tlist_of_matrix_12.append(count)\n",
    "\t\t\t# 値のリセット\n",
    "\t\t\tcount = 0\n",
    "\n",
    "\t# リストをarrayに変換、積の形にreshape\n",
    "\tmatrix_product = np.array(list_of_matrix_12).reshape(matrix_1.shape[0], matrix_2.shape[1])\n",
    "\t# 返り値の設定\n",
    "\treturn matrix_product"
   ]
  },
  {
   "cell_type": "code",
   "execution_count": 5,
   "id": "839128b3",
   "metadata": {},
   "outputs": [
    {
     "name": "stdout",
     "output_type": "stream",
     "text": [
      "[[  6  29 -20]\n",
      " [ 12  52  38]\n",
      " [-18 -51 -48]]\n"
     ]
    }
   ],
   "source": [
    "# 結果の格納および表示\n",
    "c_ndarray = matrix_product_calculator(a_ndarray, b_ndarray)\n",
    "print(c_ndarray)"
   ]
  },
  {
   "cell_type": "markdown",
   "id": "f2e1c56a",
   "metadata": {},
   "source": [
    "## 【問題5】計算が定義されない入力を判定する\n",
    "###  パラメータの追加"
   ]
  },
  {
   "cell_type": "code",
   "execution_count": 6,
   "id": "742d3236",
   "metadata": {},
   "outputs": [],
   "source": [
    "d_ndarray = np.array([[-1, 2, 3], [4, -5, 6]])\n",
    "e_ndarray = np.array([[-9, 8, 7], [6, -5, 4]])"
   ]
  },
  {
   "cell_type": "code",
   "execution_count": 7,
   "id": "4e976f5f",
   "metadata": {
    "scrolled": true
   },
   "outputs": [
    {
     "ename": "IndexError",
     "evalue": "index 2 is out of bounds for axis 0 with size 2",
     "output_type": "error",
     "traceback": [
      "\u001b[0;31m---------------------------------------------------------------------------\u001b[0m",
      "\u001b[0;31mIndexError\u001b[0m                                Traceback (most recent call last)",
      "\u001b[0;32m/var/folders/ll/cdp3xh194t7_9c631lm07yx00000gn/T/ipykernel_11939/3586891741.py\u001b[0m in \u001b[0;36m<module>\u001b[0;34m\u001b[0m\n\u001b[1;32m      1\u001b[0m \u001b[0;31m# d_ndarrayとe_ndarrayで行列積を求めようとすると行列dの列数と行列eの行数が異なるため、エラー\u001b[0m\u001b[0;34m\u001b[0m\u001b[0;34m\u001b[0m\u001b[0;34m\u001b[0m\u001b[0m\n\u001b[0;32m----> 2\u001b[0;31m \u001b[0mmatrix_product_calculator\u001b[0m\u001b[0;34m(\u001b[0m\u001b[0md_ndarray\u001b[0m\u001b[0;34m,\u001b[0m \u001b[0me_ndarray\u001b[0m\u001b[0;34m)\u001b[0m\u001b[0;34m\u001b[0m\u001b[0;34m\u001b[0m\u001b[0m\n\u001b[0m",
      "\u001b[0;32m/var/folders/ll/cdp3xh194t7_9c631lm07yx00000gn/T/ipykernel_11939/341051356.py\u001b[0m in \u001b[0;36mmatrix_product_calculator\u001b[0;34m(matrix_1, matrix_2)\u001b[0m\n\u001b[1;32m     26\u001b[0m                         \u001b[0;31m# ここのrangeはmatrix_2.shape[0]でも可能(同じ値をとる)\u001b[0m\u001b[0;34m\u001b[0m\u001b[0;34m\u001b[0m\u001b[0;34m\u001b[0m\u001b[0m\n\u001b[1;32m     27\u001b[0m                         \u001b[0;32mfor\u001b[0m \u001b[0mk\u001b[0m \u001b[0;32min\u001b[0m \u001b[0mrange\u001b[0m\u001b[0;34m(\u001b[0m\u001b[0mmatrix_1\u001b[0m\u001b[0;34m.\u001b[0m\u001b[0mshape\u001b[0m\u001b[0;34m[\u001b[0m\u001b[0;36m1\u001b[0m\u001b[0;34m]\u001b[0m\u001b[0;34m)\u001b[0m\u001b[0;34m:\u001b[0m\u001b[0;34m\u001b[0m\u001b[0;34m\u001b[0m\u001b[0m\n\u001b[0;32m---> 28\u001b[0;31m                                 \u001b[0mcount\u001b[0m \u001b[0;34m+=\u001b[0m \u001b[0mmatrix_1\u001b[0m\u001b[0;34m[\u001b[0m\u001b[0mi\u001b[0m\u001b[0;34m]\u001b[0m\u001b[0;34m[\u001b[0m\u001b[0mk\u001b[0m\u001b[0;34m]\u001b[0m \u001b[0;34m*\u001b[0m \u001b[0mmatrix_2\u001b[0m\u001b[0;34m[\u001b[0m\u001b[0mk\u001b[0m\u001b[0;34m]\u001b[0m\u001b[0;34m[\u001b[0m\u001b[0mj\u001b[0m\u001b[0;34m]\u001b[0m\u001b[0;34m\u001b[0m\u001b[0;34m\u001b[0m\u001b[0m\n\u001b[0m\u001b[1;32m     29\u001b[0m                         \u001b[0;31m# 結果の保存\u001b[0m\u001b[0;34m\u001b[0m\u001b[0;34m\u001b[0m\u001b[0;34m\u001b[0m\u001b[0m\n\u001b[1;32m     30\u001b[0m                         \u001b[0mlist_of_matrix_12\u001b[0m\u001b[0;34m.\u001b[0m\u001b[0mappend\u001b[0m\u001b[0;34m(\u001b[0m\u001b[0mcount\u001b[0m\u001b[0;34m)\u001b[0m\u001b[0;34m\u001b[0m\u001b[0;34m\u001b[0m\u001b[0m\n",
      "\u001b[0;31mIndexError\u001b[0m: index 2 is out of bounds for axis 0 with size 2"
     ]
    }
   ],
   "source": [
    "# d_ndarrayとe_ndarrayで行列積を求めようとすると行列dの列数と行列eの行数が異なるため、エラー\n",
    "matrix_product_calculator(d_ndarray, e_ndarray)"
   ]
  },
  {
   "cell_type": "code",
   "execution_count": 8,
   "id": "5242a404",
   "metadata": {},
   "outputs": [],
   "source": [
    "# 改訂版関数の宣言\n",
    "def matrix_product_calculator_revised(matrix_1, matrix_2):\n",
    "\t\"\"\"\n",
    "\tfunction : 行列1[matrix_1]と行列2[matrix_2]の行列積[matrix_product]を返す関数\n",
    "\n",
    "\t:param matrix_1: array\n",
    "\t\t行列1\n",
    "\t:param matrix_2: array\n",
    "\t\t行列2\n",
    "\n",
    "\tcount : int (計算用)\n",
    "\t\t計算結果格納用\n",
    "\tlist_of_matrix_12 : list (格納用)\n",
    "\t\t計算結果を配列に変える前に保存しておくリスト\n",
    "\n",
    "\t:return: matrix_product: array\n",
    "\t\t行列1と行列2の行列積\n",
    "\t\"\"\"\n",
    "\n",
    "\t# 計算可能か判断\n",
    "\tif matrix_1.shape[1] != matrix_2.shape[0]:\n",
    "\t\tprint('行列1の列数と行列2の行数が異なるため、計算できません。')\n",
    "\telse:\n",
    "\t\t# 初期値の設定\n",
    "\t\tcount = 0\n",
    "\t\tlist_of_matrix_12 = []\n",
    "\t\t# 計算\n",
    "\t\tfor i in range(matrix_1.shape[0]):\n",
    "\t\t\tfor j in range(matrix_2.shape[1]):\n",
    "\t\t\t\t# ここのrangeはmatrix_2.shape[0]でも可能(同じ値をとる)\n",
    "\t\t\t\tfor k in range(matrix_1.shape[1]):\n",
    "\t\t\t\t\tcount += matrix_1[i][k] * matrix_2[k][j]\n",
    "\t\t\t\t# 結果の保存\n",
    "\t\t\t\tlist_of_matrix_12.append(count)\n",
    "\t\t\t\t# 値のリセット\n",
    "\t\t\t\tcount = 0\n",
    "\n",
    "\t\t# リストをarrayに変換、積の形にreshape\n",
    "\t\tmatrix_product = np.array(list_of_matrix_12).reshape(matrix_1.shape[0], matrix_2.shape[1])\n",
    "\t\t# 返り値の設定\n",
    "\t\treturn matrix_product\n"
   ]
  },
  {
   "cell_type": "code",
   "execution_count": 10,
   "id": "69e956f6",
   "metadata": {},
   "outputs": [
    {
     "name": "stdout",
     "output_type": "stream",
     "text": [
      "行列1の列数と行列2の行数が異なるため、計算できません。\n"
     ]
    }
   ],
   "source": [
    "# 結果の格納及び表示\n",
    "matrix_product_calculator_revised(d_ndarray, e_ndarray)"
   ]
  },
  {
   "cell_type": "markdown",
   "id": "e464b111",
   "metadata": {},
   "source": [
    "## 【問題6】転置"
   ]
  },
  {
   "cell_type": "code",
   "execution_count": 11,
   "id": "6538db93",
   "metadata": {},
   "outputs": [
    {
     "name": "stdout",
     "output_type": "stream",
     "text": [
      "(3, 2)\n"
     ]
    }
   ],
   "source": [
    "# e_ndarrayの置換行列を求める\n",
    "e_ndarray_transpose = np.transpose(e_ndarray)\n",
    "print(e_ndarray_transpose.shape)"
   ]
  },
  {
   "cell_type": "code",
   "execution_count": 12,
   "id": "63b37cda",
   "metadata": {},
   "outputs": [
    {
     "name": "stdout",
     "output_type": "stream",
     "text": [
      "[[ 46  -4]\n",
      " [-34  73]]\n"
     ]
    }
   ],
   "source": [
    "# d_ndarrayとe_ndarrayの置換行列の行列積を求める\n",
    "de_transpose = matrix_product_calculator_revised(d_ndarray, e_ndarray_transpose)\n",
    "print(de_transpose)"
   ]
  },
  {
   "cell_type": "code",
   "execution_count": 13,
   "id": "d3264dee",
   "metadata": {},
   "outputs": [
    {
     "name": "stdout",
     "output_type": "stream",
     "text": [
      "[[ True  True]\n",
      " [ True  True]]\n"
     ]
    }
   ],
   "source": [
    "# 結果が正しいのか確認\n",
    "print(np.matmul(d_ndarray, e_ndarray_transpose) == de_transpose)"
   ]
  }
 ],
 "metadata": {
  "kernelspec": {
   "display_name": "Python 3 (ipykernel)",
   "language": "python",
   "name": "python3"
  },
  "language_info": {
   "codemirror_mode": {
    "name": "ipython",
    "version": 3
   },
   "file_extension": ".py",
   "mimetype": "text/x-python",
   "name": "python",
   "nbconvert_exporter": "python",
   "pygments_lexer": "ipython3",
   "version": "3.9.5"
  }
 },
 "nbformat": 4,
 "nbformat_minor": 5
}
